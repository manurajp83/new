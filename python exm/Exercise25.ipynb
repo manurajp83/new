{
 "cells": [
  {
   "cell_type": "code",
   "execution_count": 5,
   "metadata": {},
   "outputs": [
    {
     "name": "stdout",
     "output_type": "stream",
     "text": [
      "[]\n",
      "['the']\n",
      "['the']\n",
      "['the']\n",
      "['the']\n"
     ]
    }
   ],
   "source": [
    "import re\n",
    "f=open(\"taj_mahal.txt\",\"r\")\n",
    "for eachLine in f.readlines():\n",
    "    m=re.findall(\"the\",eachLine)\n",
    "    print(m)\n",
    "f.close()"
   ]
  },
  {
   "cell_type": "code",
   "execution_count": 53,
   "metadata": {},
   "outputs": [
    {
     "ename": "SyntaxError",
     "evalue": "invalid syntax (<ipython-input-53-f32667f8eedd>, line 3)",
     "output_type": "error",
     "traceback": [
      "\u001b[0;36m  File \u001b[0;32m\"<ipython-input-53-f32667f8eedd>\"\u001b[0;36m, line \u001b[0;32m3\u001b[0m\n\u001b[0;31m    p=re.compile(/b.\"the\"./b)\u001b[0m\n\u001b[0m                 ^\u001b[0m\n\u001b[0;31mSyntaxError\u001b[0m\u001b[0;31m:\u001b[0m invalid syntax\n"
     ]
    }
   ],
   "source": []
  },
  {
   "cell_type": "code",
   "execution_count": 6,
   "metadata": {},
   "outputs": [
    {
     "name": "stdout",
     "output_type": "stream",
     "text": [
      "the man who wrote this book is famous.\n",
      "\n",
      "I scratched the red car parked outside.\n",
      "\n",
      "I live in the small house with a blue door.\n",
      "\n",
      "He is the doctor I came to see.\n"
     ]
    }
   ],
   "source": [
    "#retrieve all lines that contain 'the'\n",
    "import re\n",
    "f=open(\"taj_mahal.txt\",\"r\")\n",
    "p=re.compile(\"the\")\n",
    "for eachLine in f.readlines():\n",
    "    if(p.search(eachLine)):\n",
    "        print(eachLine)\n",
    "f.close()"
   ]
  },
  {
   "cell_type": "code",
   "execution_count": 7,
   "metadata": {},
   "outputs": [
    {
     "name": "stdout",
     "output_type": "stream",
     "text": [
      "The Taj Mahal \n",
      "\n",
      "the man who wrote this book is famous.\n",
      "\n",
      "I scratched the red car parked outside.\n",
      "\n",
      "I live in the small house with a blue door.\n",
      "\n",
      "He is the doctor I came to see.\n"
     ]
    }
   ],
   "source": [
    "#retrieve all lines that contain 'the' with loweror uppercase letters\n",
    "import re\n",
    "f=open(\"taj_mahal.txt\",\"r\")\n",
    "p=re.compile(\"the\",re.I)\n",
    "for eachLine in f.readlines():\n",
    "    if(p.search(eachLine)):\n",
    "        print(eachLine)\n",
    "f.close()"
   ]
  },
  {
   "cell_type": "code",
   "execution_count": 8,
   "metadata": {},
   "outputs": [
    {
     "name": "stdout",
     "output_type": "stream",
     "text": [
      "the man who wrote this book is famous.\n",
      "\n",
      "I live in the small house with a blue door.\n",
      "\n"
     ]
    }
   ],
   "source": [
    "#retrieve all lines that have consecutive 'oo'\n",
    "import re\n",
    "f=open(\"taj_mahal.txt\",\"r\")\n",
    "p=re.compile(\"oo\")\n",
    "for eachLine in f.readlines():\n",
    "    if(p.search(eachLine)):\n",
    "        print(eachLine)\n",
    "f.close()"
   ]
  },
  {
   "cell_type": "code",
   "execution_count": 1,
   "metadata": {},
   "outputs": [
    {
     "name": "stdout",
     "output_type": "stream",
     "text": [
      "she is my sister\n",
      "\n",
      "He is the doctor I came to see.\n",
      "\n",
      "she is a doctor.\n"
     ]
    }
   ],
   "source": [
    "#retrieve lines with 3 letter word that starts with s and end with e\n",
    "import re\n",
    "f=open(\"taj_mahal.txt\",\"r\")\n",
    "p=re.compile('s.e',re.I)\n",
    "for eachLine in f.readlines():\n",
    "    if(p.search(eachLine)):\n",
    "        print(eachLine)\n",
    "f.close()"
   ]
  },
  {
   "cell_type": "code",
   "execution_count": 3,
   "metadata": {},
   "outputs": [
    {
     "name": "stdout",
     "output_type": "stream",
     "text": [
      "An apple\n"
     ]
    }
   ],
   "source": [
    "#retrieve all lines start with a\n",
    "import re\n",
    "f=open(\"taj_mahal.txt\",\"r\")\n",
    "p=re.compile('^a',re.I)\n",
    "for eachLine in f.readlines():\n",
    "    if(p.search(eachLine)):\n",
    "        print(eachLine)\n",
    "f.close()"
   ]
  },
  {
   "cell_type": "code",
   "execution_count": 17,
   "metadata": {},
   "outputs": [
    {
     "name": "stdout",
     "output_type": "stream",
     "text": [
      "afternoon\n"
     ]
    }
   ],
   "source": [
    "#retrieve all lines start with a and end with n\n",
    "import re\n",
    "f=open(\"taj_mahal.txt\",\"r\")\n",
    "p=re.compile('^a.*n$',re.I)\n",
    "for eachLine in f.readlines():\n",
    "    if(p.search(eachLine)):\n",
    "        print(eachLine)\n",
    "f.close()"
   ]
  },
  {
   "cell_type": "code",
   "execution_count": 50,
   "metadata": {},
   "outputs": [
    {
     "name": "stdout",
     "output_type": "stream",
     "text": [
      "1.2.20\n"
     ]
    }
   ],
   "source": [
    "#retreive all  lines with dates 1 or 2 digits a dot,2 digits\n",
    "import re\n",
    "f=open(\"taj_mahal.txt\",\"r\")\n",
    "p=re.compile('\\d{1,2}\\.\\d{1,2}\\.\\d{2}$')\n",
    "for eachLine in f.readlines():\n",
    "    if(p.search(eachLine)):\n",
    "        print(eachLine)\n",
    "f.close()"
   ]
  },
  {
   "cell_type": "code",
   "execution_count": null,
   "metadata": {
    "collapsed": true
   },
   "outputs": [],
   "source": []
  }
 ],
 "metadata": {
  "kernelspec": {
   "display_name": "Python 3",
   "language": "python",
   "name": "python3"
  },
  "language_info": {
   "codemirror_mode": {
    "name": "ipython",
    "version": 3
   },
   "file_extension": ".py",
   "mimetype": "text/x-python",
   "name": "python",
   "nbconvert_exporter": "python",
   "pygments_lexer": "ipython3",
   "version": "3.6.3"
  }
 },
 "nbformat": 4,
 "nbformat_minor": 2
}
