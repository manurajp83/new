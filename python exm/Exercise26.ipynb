{
 "cells": [
  {
   "cell_type": "code",
   "execution_count": 5,
   "metadata": {},
   "outputs": [
    {
     "name": "stdout",
     "output_type": "stream",
     "text": [
      "enter first number:4\n",
      "enter second number0\n",
      "Zero division error\n"
     ]
    }
   ],
   "source": [
    "#write a program to handle ZeroDivisonErrror,which may arise when two number is divided \n",
    "try:\n",
    "    a=int(input(\"enter first number:\"))\n",
    "    b=int(input(\"enter second number\"))\n",
    "    c=a/b\n",
    "    print(\"result\",c)\n",
    "except ZeroDivisionError:\n",
    "    print(\"Zero division error\")\n",
    "    "
   ]
  },
  {
   "cell_type": "code",
   "execution_count": 7,
   "metadata": {},
   "outputs": [
    {
     "name": "stdout",
     "output_type": "stream",
     "text": [
      "enter first number:45\n",
      "enter second numberh\n",
      "value Error\n"
     ]
    }
   ],
   "source": [
    "#Handle multiple Exceptions ZeroDIvisionError,ValueError\n",
    "try:\n",
    "    a=int(input(\"enter first number:\"))\n",
    "    b=int(input(\"enter second number\"))\n",
    "    c=a/b\n",
    "    print(\"result\",c)\n",
    "except ZeroDivisionError:\n",
    "    print(\"Zero division error:\")\n",
    "except ValueError:\n",
    "    print(\"value Error\")"
   ]
  },
  {
   "cell_type": "code",
   "execution_count": 12,
   "metadata": {},
   "outputs": [
    {
     "name": "stdout",
     "output_type": "stream",
     "text": [
      "YOUR PREDICTION:4\n",
      "your value is small\n"
     ]
    }
   ],
   "source": [
    "'''create a user define exceotion ValueToSmallError and valueToLargeError when a user types \n",
    "a number smaller than given number  and larger than the given number respectively'''\n",
    "\n",
    "class Error(Exception):\n",
    "    pass\n",
    "class ValueToSmallError(Error):\n",
    "    pass\n",
    "class ValueToLargeError(Error):\n",
    "    pass\n",
    "number=10\n",
    "try:\n",
    "    a=int(input(\"YOUR PREDICTION:\"))\n",
    "    if a<number:\n",
    "        raise ValueToSmallError(Error)\n",
    "    elif a>number:\n",
    "        raise ValueToLargeError(Error)\n",
    "    else:   \n",
    "        print(\"your prediction is correct\")\n",
    "except ValueToSmallError:       \n",
    "    print(\"your value is small\")\n",
    "except ValueLargeError:       \n",
    "    print(\"your value is large\")\n"
   ]
  },
  {
   "cell_type": "code",
   "execution_count": 9,
   "metadata": {},
   "outputs": [
    {
     "name": "stdout",
     "output_type": "stream",
     "text": [
      "68 = 4624\n",
      "78 = 6084\n",
      "80 = 6400\n",
      "92 = 8464\n"
     ]
    }
   ],
   "source": [
    "#generate a list of 4 digit in a given range  with all their digit even and the number is perfect square\n",
    "for j in  range(32,100,2):\n",
    "    k=j*j\n",
    "    string = str(k)\n",
    "    if int(string[0])%2==0 and int(string[1])%2==0 and int(string[2])%2==0 and int(string[3])%2==0:\n",
    "        print(j,\"=\",k)    \n"
   ]
  },
  {
   "cell_type": "code",
   "execution_count": 24,
   "metadata": {},
   "outputs": [
    {
     "name": "stdout",
     "output_type": "stream",
     "text": [
      "enter a string:sing\n",
      "singly\n"
     ]
    }
   ],
   "source": [
    "import re\n",
    "s=input(\"enter a string:\")\n",
    "if re.search(\"ing\",s):\n",
    "    print(s+'ly')\n",
    "else:\n",
    "    print(s+\"ing\")"
   ]
  },
  {
   "cell_type": "code",
   "execution_count": 9,
   "metadata": {},
   "outputs": [
    {
     "name": "stdout",
     "output_type": "stream",
     "text": [
      "['1', '5', '26\\n']\n",
      "['55', '45', '8\\n']\n",
      "['25', '6', '4']\n",
      "['25', '4', '6']\n",
      "['25', '4', '6']\n",
      "['25', '4', '6']\n"
     ]
    }
   ],
   "source": [
    "'''open csv file which contain 3 columns of numbers .write out the data to new Read=csv.DictReader(data) csv file\n",
    "swapping around the second and third columns and adding a fourth colums which contain the sum of three'''\n",
    "import csv\n",
    "data=open('col.csv','r')\n",
    "file=open('newcol','w')\n",
    "write=csv.writer(file)\n",
    "col=data.readlines()\n",
    "for i in col:\n",
    "    print(i.split(','))\n",
    "for j in col:\n",
    "    new_file=list(i.split(','))\n",
    "    temp=new_file[1]\n",
    "    new_file[1]=new_file[2]\n",
    "    new_file[2]=temp\n",
    "    print(new_file)\n"
   ]
  },
  {
   "cell_type": "code",
   "execution_count": null,
   "metadata": {
    "collapsed": true
   },
   "outputs": [],
   "source": [
    "\n",
    "    "
   ]
  },
  {
   "cell_type": "code",
   "execution_count": null,
   "metadata": {
    "collapsed": true
   },
   "outputs": [],
   "source": []
  }
 ],
 "metadata": {
  "kernelspec": {
   "display_name": "Python 3",
   "language": "python",
   "name": "python3"
  },
  "language_info": {
   "codemirror_mode": {
    "name": "ipython",
    "version": 3
   },
   "file_extension": ".py",
   "mimetype": "text/x-python",
   "name": "python",
   "nbconvert_exporter": "python",
   "pygments_lexer": "ipython3",
   "version": "3.6.3"
  }
 },
 "nbformat": 4,
 "nbformat_minor": 2
}
